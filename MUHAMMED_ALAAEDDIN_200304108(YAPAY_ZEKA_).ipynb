{
  "nbformat": 4,
  "nbformat_minor": 0,
  "metadata": {
    "colab": {
      "provenance": [],
      "authorship_tag": "ABX9TyOXXoOeRZiZ/jhtT81/oAFE",
      "include_colab_link": true
    },
    "kernelspec": {
      "name": "python3",
      "display_name": "Python 3"
    },
    "language_info": {
      "name": "python"
    }
  },
  "cells": [
    {
      "cell_type": "markdown",
      "metadata": {
        "id": "view-in-github",
        "colab_type": "text"
      },
      "source": [
        "<a href=\"https://colab.research.google.com/github/MUHAMMED-ALAAEDDIN/Yapay-zeka/blob/main/MUHAMMED_ALAAEDDIN_200304108(YAPAY_ZEKA_).ipynb\" target=\"_parent\"><img src=\"https://colab.research.google.com/assets/colab-badge.svg\" alt=\"Open In Colab\"/></a>"
      ]
    },
    {
      "cell_type": "markdown",
      "source": [
        "# ***MUHAMMED ALAAEDDIN-200304108***"
      ],
      "metadata": {
        "id": "aRpqnNqDmTQQ"
      }
    },
    {
      "cell_type": "markdown",
      "source": [
        "# Google Colab ortamında Google Drive'a erişimi sağlama ve Colab içindeki kodları Google Drive'da yer alan dosyalara erişme."
      ],
      "metadata": {
        "id": "eWwT1rDZtjL4"
      }
    },
    {
      "cell_type": "code",
      "source": [
        "from google.colab import drive\n",
        "drive.mount('/content/drive')"
      ],
      "metadata": {
        "colab": {
          "base_uri": "https://localhost:8080/"
        },
        "id": "bjQYp9rNGS_x",
        "outputId": "cd901638-fca2-429b-dd67-56dcb1914cb7"
      },
      "execution_count": null,
      "outputs": [
        {
          "output_type": "stream",
          "name": "stdout",
          "text": [
            "Drive already mounted at /content/drive; to attempt to forcibly remount, call drive.mount(\"/content/drive\", force_remount=True).\n"
          ]
        }
      ]
    },
    {
      "cell_type": "markdown",
      "source": [
        "# Veri seti drive den colab'a dahil etme."
      ],
      "metadata": {
        "id": "z2ah7kDi7K5m"
      }
    },
    {
      "cell_type": "code",
      "source": [
        "import pandas as pd\n",
        "X_train = pd.read_csv('/content/drive/My Drive/Colab Notebooks/gıda-dataset.csv')\n",
        "X_train.head()"
      ],
      "metadata": {
        "colab": {
          "base_uri": "https://localhost:8080/",
          "height": 206
        },
        "id": "f9cOghCxatoX",
        "outputId": "428856c2-ad2a-4d22-d3bc-43ac845e1ade"
      },
      "execution_count": null,
      "outputs": [
        {
          "output_type": "execute_result",
          "data": {
            "text/plain": [
              "  Yumurta;Süt;Balık;Buğday;Deniz ürünleri;Fıstık;Hasta?\n",
              "0                          0.0;0.7;0.0;0.3;0.0;0.0;1   \n",
              "1                         0.3;0.7;0.0;0.6;0.0;0.01;1   \n",
              "2                          0.0;0.0;0.0;0.8;0.0;0.0;0   \n",
              "3                        0.3;0.7;0.2;0.0;0.10;0.01;1   \n",
              "4                        0.3;0.0;0.2;0.3;0.10;0.01;1   "
            ],
            "text/html": [
              "\n",
              "  <div id=\"df-f64c60b1-2e83-4234-811e-9e863017b881\">\n",
              "    <div class=\"colab-df-container\">\n",
              "      <div>\n",
              "<style scoped>\n",
              "    .dataframe tbody tr th:only-of-type {\n",
              "        vertical-align: middle;\n",
              "    }\n",
              "\n",
              "    .dataframe tbody tr th {\n",
              "        vertical-align: top;\n",
              "    }\n",
              "\n",
              "    .dataframe thead th {\n",
              "        text-align: right;\n",
              "    }\n",
              "</style>\n",
              "<table border=\"1\" class=\"dataframe\">\n",
              "  <thead>\n",
              "    <tr style=\"text-align: right;\">\n",
              "      <th></th>\n",
              "      <th>Yumurta;Süt;Balık;Buğday;Deniz ürünleri;Fıstık;Hasta?</th>\n",
              "    </tr>\n",
              "  </thead>\n",
              "  <tbody>\n",
              "    <tr>\n",
              "      <th>0</th>\n",
              "      <td>0.0;0.7;0.0;0.3;0.0;0.0;1</td>\n",
              "    </tr>\n",
              "    <tr>\n",
              "      <th>1</th>\n",
              "      <td>0.3;0.7;0.0;0.6;0.0;0.01;1</td>\n",
              "    </tr>\n",
              "    <tr>\n",
              "      <th>2</th>\n",
              "      <td>0.0;0.0;0.0;0.8;0.0;0.0;0</td>\n",
              "    </tr>\n",
              "    <tr>\n",
              "      <th>3</th>\n",
              "      <td>0.3;0.7;0.2;0.0;0.10;0.01;1</td>\n",
              "    </tr>\n",
              "    <tr>\n",
              "      <th>4</th>\n",
              "      <td>0.3;0.0;0.2;0.3;0.10;0.01;1</td>\n",
              "    </tr>\n",
              "  </tbody>\n",
              "</table>\n",
              "</div>\n",
              "      <button class=\"colab-df-convert\" onclick=\"convertToInteractive('df-f64c60b1-2e83-4234-811e-9e863017b881')\"\n",
              "              title=\"Convert this dataframe to an interactive table.\"\n",
              "              style=\"display:none;\">\n",
              "        \n",
              "  <svg xmlns=\"http://www.w3.org/2000/svg\" height=\"24px\"viewBox=\"0 0 24 24\"\n",
              "       width=\"24px\">\n",
              "    <path d=\"M0 0h24v24H0V0z\" fill=\"none\"/>\n",
              "    <path d=\"M18.56 5.44l.94 2.06.94-2.06 2.06-.94-2.06-.94-.94-2.06-.94 2.06-2.06.94zm-11 1L8.5 8.5l.94-2.06 2.06-.94-2.06-.94L8.5 2.5l-.94 2.06-2.06.94zm10 10l.94 2.06.94-2.06 2.06-.94-2.06-.94-.94-2.06-.94 2.06-2.06.94z\"/><path d=\"M17.41 7.96l-1.37-1.37c-.4-.4-.92-.59-1.43-.59-.52 0-1.04.2-1.43.59L10.3 9.45l-7.72 7.72c-.78.78-.78 2.05 0 2.83L4 21.41c.39.39.9.59 1.41.59.51 0 1.02-.2 1.41-.59l7.78-7.78 2.81-2.81c.8-.78.8-2.07 0-2.86zM5.41 20L4 18.59l7.72-7.72 1.47 1.35L5.41 20z\"/>\n",
              "  </svg>\n",
              "      </button>\n",
              "      \n",
              "  <style>\n",
              "    .colab-df-container {\n",
              "      display:flex;\n",
              "      flex-wrap:wrap;\n",
              "      gap: 12px;\n",
              "    }\n",
              "\n",
              "    .colab-df-convert {\n",
              "      background-color: #E8F0FE;\n",
              "      border: none;\n",
              "      border-radius: 50%;\n",
              "      cursor: pointer;\n",
              "      display: none;\n",
              "      fill: #1967D2;\n",
              "      height: 32px;\n",
              "      padding: 0 0 0 0;\n",
              "      width: 32px;\n",
              "    }\n",
              "\n",
              "    .colab-df-convert:hover {\n",
              "      background-color: #E2EBFA;\n",
              "      box-shadow: 0px 1px 2px rgba(60, 64, 67, 0.3), 0px 1px 3px 1px rgba(60, 64, 67, 0.15);\n",
              "      fill: #174EA6;\n",
              "    }\n",
              "\n",
              "    [theme=dark] .colab-df-convert {\n",
              "      background-color: #3B4455;\n",
              "      fill: #D2E3FC;\n",
              "    }\n",
              "\n",
              "    [theme=dark] .colab-df-convert:hover {\n",
              "      background-color: #434B5C;\n",
              "      box-shadow: 0px 1px 3px 1px rgba(0, 0, 0, 0.15);\n",
              "      filter: drop-shadow(0px 1px 2px rgba(0, 0, 0, 0.3));\n",
              "      fill: #FFFFFF;\n",
              "    }\n",
              "  </style>\n",
              "\n",
              "      <script>\n",
              "        const buttonEl =\n",
              "          document.querySelector('#df-f64c60b1-2e83-4234-811e-9e863017b881 button.colab-df-convert');\n",
              "        buttonEl.style.display =\n",
              "          google.colab.kernel.accessAllowed ? 'block' : 'none';\n",
              "\n",
              "        async function convertToInteractive(key) {\n",
              "          const element = document.querySelector('#df-f64c60b1-2e83-4234-811e-9e863017b881');\n",
              "          const dataTable =\n",
              "            await google.colab.kernel.invokeFunction('convertToInteractive',\n",
              "                                                     [key], {});\n",
              "          if (!dataTable) return;\n",
              "\n",
              "          const docLinkHtml = 'Like what you see? Visit the ' +\n",
              "            '<a target=\"_blank\" href=https://colab.research.google.com/notebooks/data_table.ipynb>data table notebook</a>'\n",
              "            + ' to learn more about interactive tables.';\n",
              "          element.innerHTML = '';\n",
              "          dataTable['output_type'] = 'display_data';\n",
              "          await google.colab.output.renderOutput(dataTable, element);\n",
              "          const docLink = document.createElement('div');\n",
              "          docLink.innerHTML = docLinkHtml;\n",
              "          element.appendChild(docLink);\n",
              "        }\n",
              "      </script>\n",
              "    </div>\n",
              "  </div>\n",
              "  "
            ]
          },
          "metadata": {},
          "execution_count": 41
        }
      ]
    },
    {
      "cell_type": "markdown",
      "source": [
        "# KNN Algoritması kullanarak bir kişinin belli gıda ürünleri tükettiğinde alerji olup olmayacağını knn yöntemiyle tespit etmek. "
      ],
      "metadata": {
        "id": "3kciiooj_gIF"
      }
    },
    {
      "cell_type": "code",
      "source": [
        "import pandas as pd  # Pandas kütüphanesini içe aktarır.\n",
        "\n",
        "from sklearn.neighbors import KNeighborsClassifier  # KNeighborsClassifier sınıflandırıcısını içe aktarır.\n",
        "\n",
        "# Veri setinin yüklenmesi\n",
        "X_train = pd.read_csv('/content/drive/My Drive/Colab Notebooks/gıda-dataset.csv', sep=';')\n",
        "# Veri seti, ';' ayırıcı kullanarak csv dosyasından yüklenir ve X_train değişkenine atanır.\n",
        "\n",
        "# Sınıf etiketlerinin tanımlanması\n",
        "y_train = X_train['Hasta?']\n",
        "# 'Hasta?' sütunu sınıf etiketlerini içerir ve y_train değişkenine atanır.\n",
        "X_train = X_train.drop('Hasta?', axis=1)\n",
        "# 'Hasta?' sütunu veri setinden çıkarılır ve geri kalan veriler X_train'e atanır.\n",
        "\n",
        "# KNN modelinin oluşturulması\n",
        "knn = KNeighborsClassifier(n_neighbors=2)\n",
        "# KNN (K En Yakın Komşu) sınıflandırıcısı, 5 komşuyu kullanacak şekilde oluşturulur.\n",
        "\n",
        "knn.fit(X_train, y_train)\n",
        "# Model, X_train veri setini ve ona karşılık gelen sınıf etiketlerini (y_train) kullanarak eğitilir.\n",
        "\n",
        "# Yeni bir veri örneği girişi\n",
        "X_new = pd.DataFrame({\n",
        "    'Yumurta': [0.0],\n",
        "    'Süt': [0.0],\n",
        "    'Balık': [0.0],\n",
        "    'Buğday': [0.9],\n",
        "    'Deniz ürünleri': [0.0],\n",
        "    'Fıstık': [0.2]\n",
        "})\n",
        "# Yeni veri örneği, belirtilen özellik değerlerine sahip bir DataFrame olarak tanımlanır.\n",
        "\n",
        "# Yeni örneğin sınıflandırılması\n",
        "prediction = knn.predict(X_new)\n",
        "# Eğitilen model, X_new veri örneğini kullanarak tahmin yapar.\n",
        "\n",
        "# Tahmin sonucunun yazdırılması\n",
        "if prediction[0] == 1:\n",
        "    print(\" Alerji olur.\")\n",
        "else:\n",
        "    print(\" Alerji olmaz.\")\n",
        "# Tahmin sonucu, prediction değişkeninde tutulan değere göre ekrana yazdırılır.\n"
      ],
      "metadata": {
        "colab": {
          "base_uri": "https://localhost:8080/"
        },
        "id": "cfZ-S_zDk2FY",
        "outputId": "d6a278b5-77b8-472e-bfd7-99bafab0ed7b"
      },
      "execution_count": null,
      "outputs": [
        {
          "output_type": "stream",
          "name": "stdout",
          "text": [
            " Alerji olmaz.\n"
          ]
        }
      ]
    },
    {
      "cell_type": "markdown",
      "source": [
        "# KNN yöntemi kullanarak yapılan tahminlerin doğruluk değerini(oranı) bulma"
      ],
      "metadata": {
        "id": "3YgRZvJZmRf1"
      }
    },
    {
      "cell_type": "code",
      "source": [
        "\n",
        "import pandas as pd\n",
        "from sklearn.model_selection import train_test_split\n",
        "from sklearn.neighbors import KNeighborsClassifier\n",
        "from sklearn.metrics import accuracy_score\n",
        "\n",
        "# Veri seti yükleme\n",
        "df = pd.read_csv('/content/drive/My Drive/Colab Notebooks/gıda-dataset.csv', sep=';')\n",
        "\n",
        "# Veri seti özellikler ve hedef değişken olarak ayırma\n",
        "X = df.drop('Hasta?', axis=1)\n",
        "y = df['Hasta?']\n",
        "\n",
        "# Veriyi eğitim ve test kümelerine ayırma\n",
        "X_train, X_test, y_train, y_test = train_test_split(X, y, test_size=0.5,random_state=70)\n",
        " \n",
        "# KNN sınıflandırıcısını başlatma\n",
        "knn = KNeighborsClassifier(n_neighbors=5)\n",
        "\n",
        "# Sınıflandırıcıyı eğitim verilerine uyumlama\n",
        "knn.fit(X_train, y_train)\n",
        "\n",
        "# Test verileri üzerinde tahminler yapma\n",
        "knn_predictions = knn.predict(X_test)\n",
        "\n",
        "# KNN tahminlerinin doğruluğunu hesaplama\n",
        "knn_accuracy = accuracy_score(y_test, knn_predictions)\n",
        "print(f'KNN yöntemi kullanarak yapılan tahminlerin doğruluk değerini(oranı)= {knn_accuracy:.2f}')\n"
      ],
      "metadata": {
        "colab": {
          "base_uri": "https://localhost:8080/"
        },
        "id": "6-J2_Dnhn6yL",
        "outputId": "9783c000-bd9c-41e3-8eda-71d06c9a0499"
      },
      "execution_count": null,
      "outputs": [
        {
          "output_type": "stream",
          "name": "stdout",
          "text": [
            "KNN yöntemi kullanarak yapılan tahminlerin doğruluk değerini(oranı)= 0.68\n"
          ]
        }
      ]
    }
  ]
}